{
  "nbformat": 4,
  "nbformat_minor": 0,
  "metadata": {
    "colab": {
      "provenance": [],
      "gpuType": "T4",
      "authorship_tag": "ABX9TyO+Wm7Ij6E92qK/lWQOUJ1M",
      "include_colab_link": true
    },
    "kernelspec": {
      "name": "python3",
      "display_name": "Python 3"
    },
    "language_info": {
      "name": "python"
    },
    "accelerator": "GPU"
  },
  "cells": [
    {
      "cell_type": "markdown",
      "metadata": {
        "id": "view-in-github",
        "colab_type": "text"
      },
      "source": [
        "<a href=\"https://colab.research.google.com/github/audalsgh/0623_github_test/blob/main/Untitled0.ipynb\" target=\"_parent\"><img src=\"https://colab.research.google.com/assets/colab-badge.svg\" alt=\"Open In Colab\"/></a>"
      ]
    },
    {
      "cell_type": "markdown",
      "source": [
        "코랩 테스트"
      ],
      "metadata": {
        "id": "Zuyi-Jl1eCI0"
      }
    },
    {
      "cell_type": "code",
      "execution_count": 1,
      "metadata": {
        "colab": {
          "base_uri": "https://localhost:8080/"
        },
        "id": "YnaBbtEBOYIx",
        "outputId": "9f823057-b645-4654-9eb6-1e2e7f4a1683"
      },
      "outputs": [
        {
          "output_type": "stream",
          "name": "stdout",
          "text": [
            "Hello, Colab!\n"
          ]
        }
      ],
      "source": [
        "print(\"Hello, Colab!\")"
      ]
    },
    {
      "cell_type": "code",
      "source": [
        "x=5\n",
        "y=\"John\"\n",
        "print(x)\n",
        "print(y)"
      ],
      "metadata": {
        "colab": {
          "base_uri": "https://localhost:8080/"
        },
        "id": "Y4nUJFHJfWVl",
        "outputId": "9f1e5380-1f59-457d-f543-2456e0ab4dee"
      },
      "execution_count": 2,
      "outputs": [
        {
          "output_type": "stream",
          "name": "stdout",
          "text": [
            "5\n",
            "John\n"
          ]
        }
      ]
    },
    {
      "cell_type": "markdown",
      "source": [
        "파이썬은 자료형 구분없이 변수를 덮어씌울수있다."
      ],
      "metadata": {
        "id": "tUAIkrndwY68"
      }
    },
    {
      "cell_type": "code",
      "source": [
        "x = 4       # 지금은 정수 4\n",
        "x = \"Sally\" # 이제 문자열 sally로 덮어씌워짐\n",
        "print(x)"
      ],
      "metadata": {
        "colab": {
          "base_uri": "https://localhost:8080/"
        },
        "id": "qAoQCBWthkhQ",
        "outputId": "78914400-6c8e-4677-fb3a-501ef8e3c4bd"
      },
      "execution_count": 3,
      "outputs": [
        {
          "output_type": "stream",
          "name": "stdout",
          "text": [
            "Sally\n"
          ]
        }
      ]
    },
    {
      "cell_type": "markdown",
      "source": [
        "직접 자료형을 지정해줄수도 있다"
      ],
      "metadata": {
        "id": "3u5HKDAYwgit"
      }
    },
    {
      "cell_type": "code",
      "source": [
        "x = str(3)    # 문자열 3\n",
        "y = int(3)    # 정수 3\n",
        "z = float(3)  # 실수 3.0"
      ],
      "metadata": {
        "id": "aNjfGc5siuaK"
      },
      "execution_count": 4,
      "outputs": []
    },
    {
      "cell_type": "markdown",
      "source": [
        "자료형을 알아보는 함수 type()"
      ],
      "metadata": {
        "id": "c0AjAR4CwlqW"
      }
    },
    {
      "cell_type": "code",
      "source": [
        "x = 5\n",
        "y = \"John\"\n",
        "print(type(x))\n",
        "print(type(y))  #자료형을 알아보는 함수 type()"
      ],
      "metadata": {
        "colab": {
          "base_uri": "https://localhost:8080/"
        },
        "id": "eQGR3wiwi5w6",
        "outputId": "bab31ec2-b47b-40f4-9f03-fd9a60bc1bba"
      },
      "execution_count": 5,
      "outputs": [
        {
          "output_type": "stream",
          "name": "stdout",
          "text": [
            "<class 'int'>\n",
            "<class 'str'>\n"
          ]
        }
      ]
    },
    {
      "cell_type": "markdown",
      "source": [
        "파이썬에선 \"\" 와 '' 는 동일하다"
      ],
      "metadata": {
        "id": "yj9bF1Syxr4k"
      }
    },
    {
      "cell_type": "code",
      "source": [
        "x = \"John\"\n",
        "x = 'John'"
      ],
      "metadata": {
        "id": "zLngzEcejBtp"
      },
      "execution_count": 6,
      "outputs": []
    },
    {
      "cell_type": "markdown",
      "source": [
        "파이썬에선 변수를 대소문자 구분한다"
      ],
      "metadata": {
        "id": "C6iLPngVxtWG"
      }
    },
    {
      "cell_type": "code",
      "source": [
        "a = 4\n",
        "A = \"Sally\""
      ],
      "metadata": {
        "id": "9WovXVXAjMf_"
      },
      "execution_count": 7,
      "outputs": []
    },
    {
      "cell_type": "markdown",
      "source": [
        "변수 이름 선언하는 규칙 3가지"
      ],
      "metadata": {
        "id": "1fWMve0oxxpM"
      }
    },
    {
      "cell_type": "code",
      "source": [
        "myVariableName = \"John\" # Camel 첫글자는 소문자고, 단어별로 대문자표현\n",
        "MyVariableName = \"John\" # Pascal 모든 단어를 대문자표현\n",
        "my_variable_name = \"John\" # Snake 가장 많이 쓰는 언더바표현"
      ],
      "metadata": {
        "id": "YXB-pR4JjMfK"
      },
      "execution_count": 8,
      "outputs": []
    },
    {
      "cell_type": "markdown",
      "source": [
        "파이썬은 한줄에 여러 변수를 다룰수있다. 주의할점은 이렇게 쓰면 개행없이 한줄에 출력됨."
      ],
      "metadata": {
        "id": "MZmCXbnLOOew"
      }
    },
    {
      "cell_type": "code",
      "source": [
        "x,y,z = \"Orange\", \"Banana\", \"Cherry\"\n",
        "print(x,y,z)"
      ],
      "metadata": {
        "colab": {
          "base_uri": "https://localhost:8080/"
        },
        "id": "xqIeXOJikMM5",
        "outputId": "f0cb2806-08cb-4c9e-967b-3518546c02e8"
      },
      "execution_count": 9,
      "outputs": [
        {
          "output_type": "stream",
          "name": "stdout",
          "text": [
            "Orange Banana Cherry\n"
          ]
        }
      ]
    },
    {
      "cell_type": "markdown",
      "source": [
        "한줄에 동일한 데이터의 3개 변수를 선언"
      ],
      "metadata": {
        "id": "zgfW6wrLOL93"
      }
    },
    {
      "cell_type": "code",
      "source": [
        "x = y = z = \"Orange\"\n",
        "print(x,y,z)"
      ],
      "metadata": {
        "colab": {
          "base_uri": "https://localhost:8080/"
        },
        "id": "O6teQYSfkc5q",
        "outputId": "9c3def1b-2f1e-4e2c-831f-e3ef57dd7b08"
      },
      "execution_count": 10,
      "outputs": [
        {
          "output_type": "stream",
          "name": "stdout",
          "text": [
            "Orange Orange Orange\n"
          ]
        }
      ]
    },
    {
      "cell_type": "markdown",
      "source": [
        "리스트나 튜플같은 배열의 값들을 변수로 뽑아올수있다."
      ],
      "metadata": {
        "id": "xbkLeakMOT8Y"
      }
    },
    {
      "cell_type": "code",
      "source": [
        "fruits = [\"apple\", \"banana\", \"cherry\"]\n",
        "x, y, z = fruits\n",
        "print(x)\n",
        "print(y)\n",
        "print(z)"
      ],
      "metadata": {
        "colab": {
          "base_uri": "https://localhost:8080/"
        },
        "id": "HMuaEraQkm-u",
        "outputId": "cdc77b95-dffc-470e-c318-591f440339e2"
      },
      "execution_count": 11,
      "outputs": [
        {
          "output_type": "stream",
          "name": "stdout",
          "text": [
            "apple\n",
            "banana\n",
            "cherry\n"
          ]
        }
      ]
    },
    {
      "cell_type": "code",
      "source": [
        "x = \"파이썬은 엄청 훌륭하다\"\n",
        "print(x)"
      ],
      "metadata": {
        "colab": {
          "base_uri": "https://localhost:8080/"
        },
        "id": "8FgEmt82lN7M",
        "outputId": "6ffb4b75-cfc4-45aa-f15a-1f0a916b02a3"
      },
      "execution_count": 12,
      "outputs": [
        {
          "output_type": "stream",
          "name": "stdout",
          "text": [
            "파이썬은 엄청 훌륭하다\n"
          ]
        }
      ]
    },
    {
      "cell_type": "code",
      "source": [
        "x = \"파이썬은\"\n",
        "y = \"엄청\"\n",
        "z = \"훌륭하다\"\n",
        "print(x, y, z) #이렇게 사용하면 개행없이 한줄에 출력됨"
      ],
      "metadata": {
        "colab": {
          "base_uri": "https://localhost:8080/"
        },
        "id": "82sfn-O0lXvU",
        "outputId": "beb83bfc-72e7-42a1-f607-668ba5ff04e4"
      },
      "execution_count": 13,
      "outputs": [
        {
          "output_type": "stream",
          "name": "stdout",
          "text": [
            "파이썬은 엄청 훌륭하다\n"
          ]
        }
      ]
    },
    {
      "cell_type": "markdown",
      "source": [
        "문자열끼리는 +기호로 더해서 해도됨"
      ],
      "metadata": {
        "id": "E98b4y2TOgZb"
      }
    },
    {
      "cell_type": "code",
      "source": [
        "x = \"파이썬은\"\n",
        "y = \"엄청\"\n",
        "z = \"훌륭하다\"\n",
        "print(x + y + z)"
      ],
      "metadata": {
        "colab": {
          "base_uri": "https://localhost:8080/"
        },
        "id": "wEWpP-a7lnvh",
        "outputId": "b6f8a234-2ed1-47a2-f7b2-4e4d0101ec08"
      },
      "execution_count": 14,
      "outputs": [
        {
          "output_type": "stream",
          "name": "stdout",
          "text": [
            "파이썬은엄청훌륭하다\n"
          ]
        }
      ]
    },
    {
      "cell_type": "markdown",
      "source": [
        "숫자 자료형끼리는 +기호로 더해짐"
      ],
      "metadata": {
        "id": "50siU5PTOj9F"
      }
    },
    {
      "cell_type": "code",
      "source": [
        "x = 5\n",
        "y = 10\n",
        "print(x + y)"
      ],
      "metadata": {
        "colab": {
          "base_uri": "https://localhost:8080/"
        },
        "id": "taid-QvzlxaI",
        "outputId": "ede0760c-f344-44b8-f800-e532dc5285d3"
      },
      "execution_count": 15,
      "outputs": [
        {
          "output_type": "stream",
          "name": "stdout",
          "text": [
            "15\n"
          ]
        }
      ]
    },
    {
      "cell_type": "markdown",
      "source": [
        "그러나 (숫자 + 문자열) 출력은 오류"
      ],
      "metadata": {
        "id": "W-LpLS_ZOn9S"
      }
    },
    {
      "cell_type": "code",
      "source": [
        "x = 5\n",
        "y = \"John\"\n",
        "print(x + y)"
      ],
      "metadata": {
        "colab": {
          "base_uri": "https://localhost:8080/",
          "height": 184
        },
        "id": "tI8zlvPWl5OM",
        "outputId": "527b47b8-6940-42b5-aef3-c6e31524513a"
      },
      "execution_count": 16,
      "outputs": [
        {
          "output_type": "error",
          "ename": "TypeError",
          "evalue": "unsupported operand type(s) for +: 'int' and 'str'",
          "traceback": [
            "\u001b[0;31m---------------------------------------------------------------------------\u001b[0m",
            "\u001b[0;31mTypeError\u001b[0m                                 Traceback (most recent call last)",
            "\u001b[0;32m/tmp/ipython-input-16-1989821626.py\u001b[0m in \u001b[0;36m<cell line: 0>\u001b[0;34m()\u001b[0m\n\u001b[1;32m      1\u001b[0m \u001b[0mx\u001b[0m \u001b[0;34m=\u001b[0m \u001b[0;36m5\u001b[0m\u001b[0;34m\u001b[0m\u001b[0;34m\u001b[0m\u001b[0m\n\u001b[1;32m      2\u001b[0m \u001b[0my\u001b[0m \u001b[0;34m=\u001b[0m \u001b[0;34m\"John\"\u001b[0m\u001b[0;34m\u001b[0m\u001b[0;34m\u001b[0m\u001b[0m\n\u001b[0;32m----> 3\u001b[0;31m \u001b[0mprint\u001b[0m\u001b[0;34m(\u001b[0m\u001b[0mx\u001b[0m \u001b[0;34m+\u001b[0m \u001b[0my\u001b[0m\u001b[0;34m)\u001b[0m\u001b[0;34m\u001b[0m\u001b[0;34m\u001b[0m\u001b[0m\n\u001b[0m",
            "\u001b[0;31mTypeError\u001b[0m: unsupported operand type(s) for +: 'int' and 'str'"
          ]
        }
      ]
    },
    {
      "cell_type": "markdown",
      "source": [
        "자료형이 다른 두 변수를 한개의 print()로 출력하려면 ,로 구분해준다."
      ],
      "metadata": {
        "id": "NPzgfVviPKsO"
      }
    },
    {
      "cell_type": "code",
      "source": [
        "x = 5\n",
        "y = \"John\"\n",
        "print(x, y)"
      ],
      "metadata": {
        "colab": {
          "base_uri": "https://localhost:8080/"
        },
        "id": "LfjvEiXTl_ED",
        "outputId": "72c29f42-eb1e-435d-c865-d67a9296ba17"
      },
      "execution_count": 17,
      "outputs": [
        {
          "output_type": "stream",
          "name": "stdout",
          "text": [
            "5 John\n"
          ]
        }
      ]
    },
    {
      "cell_type": "markdown",
      "source": [
        "함수에서 정의되는 변수와, 전역변수 개념"
      ],
      "metadata": {
        "id": "vy2NMLUxPMbe"
      }
    },
    {
      "cell_type": "code",
      "source": [
        "x = \"awesome\"\n",
        "\n",
        "def myfunc(): #인자없는 함수 정의, 내용은 단순 print()\n",
        "  print(\"Python is \" + x)\n",
        "\n",
        "myfunc() #함수 호출"
      ],
      "metadata": {
        "colab": {
          "base_uri": "https://localhost:8080/"
        },
        "id": "LU5Rrrt8mHjR",
        "outputId": "d6a5ffde-ee16-4ec1-95e4-427b472b2f89"
      },
      "execution_count": 18,
      "outputs": [
        {
          "output_type": "stream",
          "name": "stdout",
          "text": [
            "Python is awesome\n"
          ]
        }
      ]
    },
    {
      "cell_type": "code",
      "source": [
        "x = \"awesome\"\n",
        "\n",
        "def myfunc(): #인자는 여전히 없지만, x변수를 덮어씌우는 함수\n",
        "  x = \"fantastic\"\n",
        "  print(\"Python is \" + x)\n",
        "\n",
        "myfunc()\n",
        "\n",
        "print(\"Python is \" + x) #호출시에만 덮어씌워졌을뿐, 기존 x변수를 출력했을땐 변화없다."
      ],
      "metadata": {
        "colab": {
          "base_uri": "https://localhost:8080/"
        },
        "id": "9KRofDCCmXbE",
        "outputId": "465684af-69d4-4b16-bdfd-2c348ed5da5f"
      },
      "execution_count": 19,
      "outputs": [
        {
          "output_type": "stream",
          "name": "stdout",
          "text": [
            "Python is fantastic\n",
            "Python is awesome\n"
          ]
        }
      ]
    },
    {
      "cell_type": "code",
      "source": [
        "def myfunc():\n",
        "  global x\n",
        "  x = \"fantastic\"\n",
        "\n",
        "myfunc()\n",
        "\n",
        "print(\"Python is \" + x) #global 전역변수로 선언된 x는 함수호출이 끝나고도 사용가능하다"
      ],
      "metadata": {
        "colab": {
          "base_uri": "https://localhost:8080/"
        },
        "id": "mxBIGhq-mjvp",
        "outputId": "ed29f45b-f474-4a93-a23f-ddada4eaa94c"
      },
      "execution_count": 20,
      "outputs": [
        {
          "output_type": "stream",
          "name": "stdout",
          "text": [
            "Python is fantastic\n"
          ]
        }
      ]
    },
    {
      "cell_type": "code",
      "source": [
        "x = \"awesome\"\n",
        "\n",
        "def myfunc():\n",
        "  global x\n",
        "  x = \"fantastic\"\n",
        "\n",
        "myfunc()\n",
        "\n",
        "print(\"Python is \" + x) #global 전역변수로 초기화되고 있으므로, 호출이 되고나면 기존 x를 덮어씌워버린다."
      ],
      "metadata": {
        "colab": {
          "base_uri": "https://localhost:8080/"
        },
        "id": "PHJbYYeMmsAj",
        "outputId": "0562b876-9566-46e1-be83-6094cfe3827e"
      },
      "execution_count": 21,
      "outputs": [
        {
          "output_type": "stream",
          "name": "stdout",
          "text": [
            "Python is fantastic\n"
          ]
        }
      ]
    },
    {
      "cell_type": "markdown",
      "source": [
        "파이썬 자료형들"
      ],
      "metadata": {
        "id": "LdwYeALtxlLf"
      }
    },
    {
      "cell_type": "code",
      "source": [
        "x = \"Hello World\"\t#str\n",
        "x = 20\t#int\n",
        "x = 20.5\t#float\n",
        "x = 1j\t#complex\n",
        "x = [\"apple\", \"banana\", \"cherry\"]\t#list\t순서 정해진 배열\n",
        "x = (\"apple\", \"banana\", \"cherry\")\t#tuple\t순서와 값이 불변인 배열\n",
        "x = range(6)\t#range\t텅빈 배열\n",
        "x = {\"name\" : \"John\", \"age\" : 36}\t#딕셔너리를 통해 x변수엔 dict[\"name\"] 키값 36이 저장됨\n",
        "x = {\"apple\", \"banana\", \"cherry\"}\t#set 집합연산 print(a & b)교집합, (a|b)합집합, (a-b)차집합 지원\n",
        "x = frozenset({\"apple\", \"banana\", \"cherry\"})\t#frozenset add(), remove()같은걸로 수정할수 없는 집합\n",
        "x = True\t#bool\t 바이트 계열 객체(예: bytes, bytearray, array.array 등)의 메모리 버퍼를 복사 없이 뷰(view)형태로 다룰 수 있게 해주는 객체\n",
        "x = b\"ABC\"\t#bytes 자료형은 print(x[0]) = 65라는 아스키코드를 출력함\n",
        "x = bytearray(5)\t#bytearray 위에 것과 다른점은 가변이라는 것.\n",
        "x = memoryview(bytes(5))\t#memoryview\n",
        "x = None\t#NoneType 값없음 상태나, 특별한 초기값을 의미"
      ],
      "metadata": {
        "id": "FYA4DFTWn-Xf"
      },
      "execution_count": 22,
      "outputs": []
    },
    {
      "cell_type": "code",
      "source": [],
      "metadata": {
        "id": "uFRWdJBiPQ05"
      },
      "execution_count": null,
      "outputs": []
    }
  ]
}