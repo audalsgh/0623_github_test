{
  "nbformat": 4,
  "nbformat_minor": 0,
  "metadata": {
    "colab": {
      "provenance": [],
      "gpuType": "T4",
      "authorship_tag": "ABX9TyOBB/CTVCYzjYFnL+FO0/Jl",
      "include_colab_link": true
    },
    "kernelspec": {
      "name": "python3",
      "display_name": "Python 3"
    },
    "language_info": {
      "name": "python"
    },
    "accelerator": "GPU"
  },
  "cells": [
    {
      "cell_type": "markdown",
      "metadata": {
        "id": "view-in-github",
        "colab_type": "text"
      },
      "source": [
        "<a href=\"https://colab.research.google.com/github/audalsgh/0623_github_test/blob/main/Untitled0.ipynb\" target=\"_parent\"><img src=\"https://colab.research.google.com/assets/colab-badge.svg\" alt=\"Open In Colab\"/></a>"
      ]
    },
    {
      "cell_type": "markdown",
      "source": [
        "코랩 테스트"
      ],
      "metadata": {
        "id": "Zuyi-Jl1eCI0"
      }
    },
    {
      "cell_type": "code",
      "execution_count": 94,
      "metadata": {
        "colab": {
          "base_uri": "https://localhost:8080/"
        },
        "id": "YnaBbtEBOYIx",
        "outputId": "50625bdf-e798-455c-96fc-be4cdb1ca60f"
      },
      "outputs": [
        {
          "output_type": "stream",
          "name": "stdout",
          "text": [
            "Hello, Colab!\n"
          ]
        }
      ],
      "source": [
        "print(\"Hello, Colab!\")"
      ]
    },
    {
      "cell_type": "code",
      "source": [
        "x=5\n",
        "y=\"John\"\n",
        "print(x)\n",
        "print(y)"
      ],
      "metadata": {
        "colab": {
          "base_uri": "https://localhost:8080/"
        },
        "id": "Y4nUJFHJfWVl",
        "outputId": "63bf4959-2baa-43d3-e370-848761339626"
      },
      "execution_count": 95,
      "outputs": [
        {
          "output_type": "stream",
          "name": "stdout",
          "text": [
            "5\n",
            "John\n"
          ]
        }
      ]
    },
    {
      "cell_type": "markdown",
      "source": [
        "파이썬은 자료형 구분없이 변수를 덮어씌울수있다."
      ],
      "metadata": {
        "id": "tUAIkrndwY68"
      }
    },
    {
      "cell_type": "code",
      "source": [
        "x = 4       # 지금은 정수 4\n",
        "x = \"Sally\" # 이제 문자열 sally로 덮어씌워짐\n",
        "print(x)"
      ],
      "metadata": {
        "colab": {
          "base_uri": "https://localhost:8080/"
        },
        "id": "qAoQCBWthkhQ",
        "outputId": "2a4a36c4-9f49-4c42-a5cb-48be018b5a3d"
      },
      "execution_count": 96,
      "outputs": [
        {
          "output_type": "stream",
          "name": "stdout",
          "text": [
            "Sally\n"
          ]
        }
      ]
    },
    {
      "cell_type": "markdown",
      "source": [
        "직접 자료형을 지정해줄수도 있다"
      ],
      "metadata": {
        "id": "3u5HKDAYwgit"
      }
    },
    {
      "cell_type": "code",
      "source": [
        "x = str(3)    # 문자열 3\n",
        "y = int(3)    # 정수 3\n",
        "z = float(3)  # 실수 3.0"
      ],
      "metadata": {
        "id": "aNjfGc5siuaK"
      },
      "execution_count": 97,
      "outputs": []
    },
    {
      "cell_type": "markdown",
      "source": [
        "자료형을 알아보는 함수 type()"
      ],
      "metadata": {
        "id": "c0AjAR4CwlqW"
      }
    },
    {
      "cell_type": "code",
      "source": [
        "x = 5\n",
        "y = \"John\"\n",
        "print(type(x))\n",
        "print(type(y))  #자료형을 알아보는 함수 type()"
      ],
      "metadata": {
        "colab": {
          "base_uri": "https://localhost:8080/"
        },
        "id": "eQGR3wiwi5w6",
        "outputId": "b785b9c5-d5ed-44c0-f8bf-9b473e0bdb3b"
      },
      "execution_count": 98,
      "outputs": [
        {
          "output_type": "stream",
          "name": "stdout",
          "text": [
            "<class 'int'>\n",
            "<class 'str'>\n"
          ]
        }
      ]
    },
    {
      "cell_type": "markdown",
      "source": [
        "파이썬에선 \"\" 와 '' 는 동일하다"
      ],
      "metadata": {
        "id": "yj9bF1Syxr4k"
      }
    },
    {
      "cell_type": "code",
      "source": [
        "x = \"John\"\n",
        "x = 'John'"
      ],
      "metadata": {
        "id": "zLngzEcejBtp"
      },
      "execution_count": 99,
      "outputs": []
    },
    {
      "cell_type": "markdown",
      "source": [
        "파이썬에선 변수를 대소문자 구분한다"
      ],
      "metadata": {
        "id": "C6iLPngVxtWG"
      }
    },
    {
      "cell_type": "code",
      "source": [
        "a = 4\n",
        "A = \"Sally\""
      ],
      "metadata": {
        "id": "9WovXVXAjMf_"
      },
      "execution_count": 100,
      "outputs": []
    },
    {
      "cell_type": "markdown",
      "source": [
        "변수 이름 선언하는 규칙 3가지"
      ],
      "metadata": {
        "id": "1fWMve0oxxpM"
      }
    },
    {
      "cell_type": "code",
      "source": [
        "myVariableName = \"John\" # Camel 첫글자는 소문자고, 단어별로 대문자표현\n",
        "MyVariableName = \"John\" # Pascal 모든 단어를 대문자표현\n",
        "my_variable_name = \"John\" # Snake 가장 많이 쓰는 언더바표현"
      ],
      "metadata": {
        "id": "YXB-pR4JjMfK"
      },
      "execution_count": 101,
      "outputs": []
    },
    {
      "cell_type": "markdown",
      "source": [
        "파이썬은 한줄에 여러 변수를 다룰수있다. 주의할점은 이렇게 쓰면 개행없이 한줄에 출력됨."
      ],
      "metadata": {
        "id": "MZmCXbnLOOew"
      }
    },
    {
      "cell_type": "code",
      "source": [
        "x,y,z = \"Orange\", \"Banana\", \"Cherry\"\n",
        "print(x,y,z)"
      ],
      "metadata": {
        "colab": {
          "base_uri": "https://localhost:8080/"
        },
        "id": "xqIeXOJikMM5",
        "outputId": "d8812eb5-1b12-4d0d-e51f-4c1d59745624"
      },
      "execution_count": 102,
      "outputs": [
        {
          "output_type": "stream",
          "name": "stdout",
          "text": [
            "Orange Banana Cherry\n"
          ]
        }
      ]
    },
    {
      "cell_type": "markdown",
      "source": [
        "한줄에 동일한 데이터의 3개 변수를 선언"
      ],
      "metadata": {
        "id": "zgfW6wrLOL93"
      }
    },
    {
      "cell_type": "code",
      "source": [
        "x = y = z = \"Orange\"\n",
        "print(x,y,z)"
      ],
      "metadata": {
        "colab": {
          "base_uri": "https://localhost:8080/"
        },
        "id": "O6teQYSfkc5q",
        "outputId": "46c80c67-5c91-4dc8-ed60-383ec707006a"
      },
      "execution_count": 103,
      "outputs": [
        {
          "output_type": "stream",
          "name": "stdout",
          "text": [
            "Orange Orange Orange\n"
          ]
        }
      ]
    },
    {
      "cell_type": "markdown",
      "source": [
        "리스트나 튜플같은 배열의 값들을 변수로 뽑아올수있다."
      ],
      "metadata": {
        "id": "xbkLeakMOT8Y"
      }
    },
    {
      "cell_type": "code",
      "source": [
        "fruits = [\"apple\", \"banana\", \"cherry\"]\n",
        "x, y, z = fruits\n",
        "print(x)\n",
        "print(y)\n",
        "print(z)"
      ],
      "metadata": {
        "colab": {
          "base_uri": "https://localhost:8080/"
        },
        "id": "HMuaEraQkm-u",
        "outputId": "7dc0fb68-38c2-47a9-d7a4-ae2d17a9f27d"
      },
      "execution_count": 104,
      "outputs": [
        {
          "output_type": "stream",
          "name": "stdout",
          "text": [
            "apple\n",
            "banana\n",
            "cherry\n"
          ]
        }
      ]
    },
    {
      "cell_type": "code",
      "source": [
        "x = \"파이썬은 엄청 훌륭하다\"\n",
        "print(x)"
      ],
      "metadata": {
        "colab": {
          "base_uri": "https://localhost:8080/"
        },
        "id": "8FgEmt82lN7M",
        "outputId": "ca24a9ea-3811-498a-bf59-d5d303866833"
      },
      "execution_count": 105,
      "outputs": [
        {
          "output_type": "stream",
          "name": "stdout",
          "text": [
            "파이썬은 엄청 훌륭하다\n"
          ]
        }
      ]
    },
    {
      "cell_type": "code",
      "source": [
        "x = \"파이썬은\"\n",
        "y = \"엄청\"\n",
        "z = \"훌륭하다\"\n",
        "print(x, y, z) #이렇게 사용하면 개행없이 한줄에 출력됨"
      ],
      "metadata": {
        "colab": {
          "base_uri": "https://localhost:8080/"
        },
        "id": "82sfn-O0lXvU",
        "outputId": "6e9fbedb-3ccf-4103-c2a0-fedf6083d7c5"
      },
      "execution_count": 106,
      "outputs": [
        {
          "output_type": "stream",
          "name": "stdout",
          "text": [
            "파이썬은 엄청 훌륭하다\n"
          ]
        }
      ]
    },
    {
      "cell_type": "markdown",
      "source": [
        "문자열끼리는 +기호로 더해서 해도됨"
      ],
      "metadata": {
        "id": "E98b4y2TOgZb"
      }
    },
    {
      "cell_type": "code",
      "source": [
        "x = \"파이썬은\"\n",
        "y = \"엄청\"\n",
        "z = \"훌륭하다\"\n",
        "print(x + y + z)"
      ],
      "metadata": {
        "colab": {
          "base_uri": "https://localhost:8080/"
        },
        "id": "wEWpP-a7lnvh",
        "outputId": "f7281bd2-659c-4007-db71-95561916696d"
      },
      "execution_count": 107,
      "outputs": [
        {
          "output_type": "stream",
          "name": "stdout",
          "text": [
            "파이썬은엄청훌륭하다\n"
          ]
        }
      ]
    },
    {
      "cell_type": "markdown",
      "source": [
        "숫자 자료형끼리는 +기호로 더해짐"
      ],
      "metadata": {
        "id": "50siU5PTOj9F"
      }
    },
    {
      "cell_type": "code",
      "source": [
        "x = 5\n",
        "y = 10\n",
        "print(x + y)"
      ],
      "metadata": {
        "colab": {
          "base_uri": "https://localhost:8080/"
        },
        "id": "taid-QvzlxaI",
        "outputId": "42bfd30f-560a-4fd5-d26f-4f0e718bc166"
      },
      "execution_count": 108,
      "outputs": [
        {
          "output_type": "stream",
          "name": "stdout",
          "text": [
            "15\n"
          ]
        }
      ]
    },
    {
      "cell_type": "markdown",
      "source": [
        "그러나 (숫자 + 문자열) 출력은 오류"
      ],
      "metadata": {
        "id": "W-LpLS_ZOn9S"
      }
    },
    {
      "cell_type": "code",
      "source": [
        "x = 5\n",
        "y = \"John\"\n",
        "print(f\"{x} + {y}\")  #파이썬만의 문법인 f-string \"{ }\" 으로 변수를 묶어주면 문자열로 출력해준다."
      ],
      "metadata": {
        "colab": {
          "base_uri": "https://localhost:8080/"
        },
        "id": "tI8zlvPWl5OM",
        "outputId": "dc349f6a-ecb2-4122-8608-afda43e51d6b"
      },
      "execution_count": 109,
      "outputs": [
        {
          "output_type": "stream",
          "name": "stdout",
          "text": [
            "5 + John\n"
          ]
        }
      ]
    },
    {
      "cell_type": "markdown",
      "source": [
        "자료형이 다른 두 변수를 한개의 print()로 출력하려면 ,로 구분해준다."
      ],
      "metadata": {
        "id": "NPzgfVviPKsO"
      }
    },
    {
      "cell_type": "code",
      "source": [
        "x = 5\n",
        "y = \"John\"\n",
        "print(x, y)"
      ],
      "metadata": {
        "colab": {
          "base_uri": "https://localhost:8080/"
        },
        "id": "LfjvEiXTl_ED",
        "outputId": "e5668226-c70d-4799-aa21-9c96c96ca98a"
      },
      "execution_count": 110,
      "outputs": [
        {
          "output_type": "stream",
          "name": "stdout",
          "text": [
            "5 John\n"
          ]
        }
      ]
    },
    {
      "cell_type": "markdown",
      "source": [
        "함수에서 정의되는 변수와, 전역변수 개념"
      ],
      "metadata": {
        "id": "vy2NMLUxPMbe"
      }
    },
    {
      "cell_type": "code",
      "source": [
        "x = \"awesome\"\n",
        "\n",
        "def myfunc(): #인자없는 함수 정의, 내용은 단순 print()\n",
        "  print(\"Python is \" + x)\n",
        "\n",
        "myfunc() #함수 호출"
      ],
      "metadata": {
        "colab": {
          "base_uri": "https://localhost:8080/"
        },
        "id": "LU5Rrrt8mHjR",
        "outputId": "506e7842-598b-4435-fb32-c51382d6797c"
      },
      "execution_count": 111,
      "outputs": [
        {
          "output_type": "stream",
          "name": "stdout",
          "text": [
            "Python is awesome\n"
          ]
        }
      ]
    },
    {
      "cell_type": "code",
      "source": [
        "x = \"awesome\"\n",
        "\n",
        "def myfunc(): #인자는 여전히 없지만, x변수를 덮어씌우는 함수\n",
        "  x = \"fantastic\"\n",
        "  print(\"Python is \" + x)\n",
        "\n",
        "myfunc()\n",
        "\n",
        "print(\"Python is \" + x) #호출시에만 덮어씌워졌을뿐, 기존 x변수를 출력했을땐 변화없다."
      ],
      "metadata": {
        "colab": {
          "base_uri": "https://localhost:8080/"
        },
        "id": "9KRofDCCmXbE",
        "outputId": "b322b09a-cce2-4ac0-9800-93e7e2a403b5"
      },
      "execution_count": 112,
      "outputs": [
        {
          "output_type": "stream",
          "name": "stdout",
          "text": [
            "Python is fantastic\n",
            "Python is awesome\n"
          ]
        }
      ]
    },
    {
      "cell_type": "code",
      "source": [
        "def myfunc():\n",
        "  global x\n",
        "  x = \"fantastic\"\n",
        "\n",
        "myfunc()\n",
        "\n",
        "print(\"Python is \" + x) #global 전역변수로 선언된 x는 함수호출이 끝나고도 사용가능하다"
      ],
      "metadata": {
        "colab": {
          "base_uri": "https://localhost:8080/"
        },
        "id": "mxBIGhq-mjvp",
        "outputId": "c5598e31-86c3-4743-d75e-9f430c6640fe"
      },
      "execution_count": 113,
      "outputs": [
        {
          "output_type": "stream",
          "name": "stdout",
          "text": [
            "Python is fantastic\n"
          ]
        }
      ]
    },
    {
      "cell_type": "code",
      "source": [
        "x = \"awesome\"\n",
        "\n",
        "def myfunc():\n",
        "  global x\n",
        "  x = \"fantastic\"\n",
        "\n",
        "myfunc()\n",
        "\n",
        "print(\"Python is \" + x) #global 전역변수로 초기화되고 있으므로, 호출이 되고나면 기존 x를 덮어씌워버린다."
      ],
      "metadata": {
        "colab": {
          "base_uri": "https://localhost:8080/"
        },
        "id": "PHJbYYeMmsAj",
        "outputId": "a9345bde-4b98-4387-a19b-932a6c5caa10"
      },
      "execution_count": 114,
      "outputs": [
        {
          "output_type": "stream",
          "name": "stdout",
          "text": [
            "Python is fantastic\n"
          ]
        }
      ]
    },
    {
      "cell_type": "markdown",
      "source": [
        "파이썬 자료형들"
      ],
      "metadata": {
        "id": "LdwYeALtxlLf"
      }
    },
    {
      "cell_type": "code",
      "source": [
        "x = \"Hello World\"\t#str\n",
        "x = 20\t#int\n",
        "x = 20.5\t#float\n",
        "x = 1j\t#complex\n",
        "x = [\"apple\", \"banana\", \"cherry\"]\t#list\t순서 정해진 배열\n",
        "x = (\"apple\", \"banana\", \"cherry\")\t#tuple\t순서와 값이 불변인 배열\n",
        "x = range(6)\t#range\t텅빈 배열\n",
        "x = {\"name\" : \"John\", \"age\" : 36}\t#딕셔너리를 통해 x변수엔 dict[\"name\"] 키값 36이 저장됨\n",
        "x = {\"apple\", \"banana\", \"cherry\"}\t#set 집합연산 print(a & b)교집합, (a|b)합집합, (a-b)차집합 지원\n",
        "x = frozenset({\"apple\", \"banana\", \"cherry\"})\t#frozenset add(), remove()같은걸로 수정할수 없는 집합\n",
        "x = True\t#bool\t 바이트 계열 객체(예: bytes, bytearray, array.array 등)의 메모리 버퍼를 복사 없이 뷰(view)형태로 다룰 수 있게 해주는 객체\n",
        "x = b\"ABC\"\t#bytes 자료형은 print(x[0]) = 65라는 아스키코드를 출력함\n",
        "x = bytearray(5)\t#bytearray 위에 것과 다른점은 가변이라는 것.\n",
        "x = memoryview(bytes(5))\t#memoryview\n",
        "x = None\t#NoneType 값없음 상태나, 특별한 초기값을 의미"
      ],
      "metadata": {
        "id": "FYA4DFTWn-Xf"
      },
      "execution_count": 115,
      "outputs": []
    },
    {
      "cell_type": "markdown",
      "source": [
        "미션 1. 조건문으로 나이와 점수에 따른 결과출력해보기"
      ],
      "metadata": {
        "id": "jLEnJXUMwIBH"
      }
    },
    {
      "cell_type": "code",
      "source": [
        "age = 19\n",
        "score = 85\n",
        "\n",
        "if (age >= 18):\n",
        "  if (score >= 80):\n",
        "    print(\"합격\")\n",
        "  else:\n",
        "    print(\"불합격\")\n",
        "else:\n",
        "  print(\"미성년자\")"
      ],
      "metadata": {
        "colab": {
          "base_uri": "https://localhost:8080/"
        },
        "id": "uFRWdJBiPQ05",
        "outputId": "6c5d0746-90d4-4a11-963e-52d5261a022e"
      },
      "execution_count": 116,
      "outputs": [
        {
          "output_type": "stream",
          "name": "stdout",
          "text": [
            "합격\n"
          ]
        }
      ]
    },
    {
      "cell_type": "markdown",
      "source": [
        "미션2. 사람수와 키를 입력받아 키의 평균을 구하기"
      ],
      "metadata": {
        "id": "4PapaVhM2_De"
      }
    },
    {
      "cell_type": "code",
      "source": [
        "n = int(input(\"사람 수를 입력하세요: \"))\n",
        "height = list(map(float, input(\"키를 공백으로 구분하여 입력하세요(cm): \").split()))\n",
        "\n",
        "total = 0.0\n",
        "for i in height:\n",
        "  total += i\n",
        "\n",
        "print(total/n)"
      ],
      "metadata": {
        "colab": {
          "base_uri": "https://localhost:8080/"
        },
        "id": "k0mynKxlwM9c",
        "outputId": "568b160c-c91a-43d1-964d-3e66e6454f4c"
      },
      "execution_count": 117,
      "outputs": [
        {
          "output_type": "stream",
          "name": "stdout",
          "text": [
            "사람 수를 입력하세요: 5\n",
            "키를 공백으로 구분하여 입력하세요(cm): 170 181.4 165.8 191.4 193\n",
            "180.32\n"
          ]
        }
      ]
    },
    {
      "cell_type": "markdown",
      "source": [
        "속도를 입력받아 과속을 검사하는 if문 샘플"
      ],
      "metadata": {
        "id": "TGlvqSwJ5Hti"
      }
    },
    {
      "cell_type": "code",
      "source": [
        "speed = int(input(\"현재 속도를 입력하세요 (km/h): \"))\n",
        "\n",
        "speed_limit = 60\n",
        "\n",
        "if speed > speed_limit:\n",
        "  print(\"과속중입니다. 속도를 줄이세요\")\n",
        "elif speed == speed_limit:\n",
        "  print(\"제한 속도입니다. 속도를 줄이세요\")\n",
        "else:\n",
        "  print(\"안전 속도입니다.\")"
      ],
      "metadata": {
        "colab": {
          "base_uri": "https://localhost:8080/"
        },
        "id": "6O0z8o8p4BsN",
        "outputId": "b1df5769-b349-41af-a8d5-1619dd455364"
      },
      "execution_count": 118,
      "outputs": [
        {
          "output_type": "stream",
          "name": "stdout",
          "text": [
            "현재 속도를 입력하세요 (km/h): 70\n",
            "과속중입니다. 속도를 줄이세요\n"
          ]
        }
      ]
    },
    {
      "cell_type": "markdown",
      "source": [
        "차선 이탈을 감지하는 if문 샘플"
      ],
      "metadata": {
        "id": "gavnmKx65D1C"
      }
    },
    {
      "cell_type": "code",
      "source": [
        "left_line_detected = True\n",
        "right_line_detected = False\n",
        "handle_angle = 0\n",
        "\n",
        "if left_line_detected == False:\n",
        "  print(\"좌측차선 이탈입니다. 핸들을 오른쪽으로 틉니다\")\n",
        "  handle_angle += 10\n",
        "if right_line_detected == False:\n",
        "  print(\"우측차선 이탈입니다. 핸들을 좌측으로 틉니다\")\n",
        "  handle_angle += -10\n",
        "\n",
        "print(handle_angle)"
      ],
      "metadata": {
        "colab": {
          "base_uri": "https://localhost:8080/"
        },
        "id": "4LjVHo_Z4DWv",
        "outputId": "9df63157-3af2-4b55-ddbc-18bbe47d86a1"
      },
      "execution_count": 119,
      "outputs": [
        {
          "output_type": "stream",
          "name": "stdout",
          "text": [
            "우측차선 이탈입니다. 핸들을 좌측으로 틉니다\n",
            "-10\n"
          ]
        }
      ]
    }
  ]
}